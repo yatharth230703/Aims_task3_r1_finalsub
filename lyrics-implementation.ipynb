{
  "cells": [
    {
      "cell_type": "markdown",
      "metadata": {},
      "source": [
        "### Initial Setup"
      ]
    },
    {
      "cell_type": "code",
      "execution_count": 2,
      "metadata": {
        "id": "-6eK0CPLuYKJ"
      },
      "outputs": [],
      "source": [
        "# imports\n",
        "import numpy as np\n",
        "import pandas as pd\n",
        "import requests\n",
        "import spotipy\n",
        "import librosa\n",
        "import json\n",
        "import re\n",
        "import urllib.request\n",
        "import langdetect as ld\n",
        "\n",
        "from spotipy.oauth2 import SpotifyClientCredentials\n",
        "from bs4 import BeautifulSoup"
      ]
    },
    {
      "cell_type": "code",
      "execution_count": 3,
      "metadata": {
        "id": "iKHvBeyrxKjL"
      },
      "outputs": [],
      "source": [
        "# spotify api creds\n",
        "SPOTIFY_CLIENT_ID = ''\n",
        "SPOTIFY_CLIENT_SECRET = ''"
      ]
    },
    {
      "cell_type": "code",
      "execution_count": 4,
      "metadata": {
        "id": "eVZwwPDzxI7a"
      },
      "outputs": [],
      "source": [
        "# function to get spotify token\n",
        "def get_spotify_token(client_id, client_secret):\n",
        "    auth_url = 'https://accounts.spotify.com/api/token'\n",
        "    auth_response = requests.post(auth_url, {\n",
        "        'grant_type': 'client_credentials',\n",
        "        'client_id': client_id,\n",
        "        'client_secret': client_secret,\n",
        "    })\n",
        "    auth_response_data = auth_response.json()\n",
        "    return auth_response_data['access_token']"
      ]
    },
    {
      "cell_type": "code",
      "execution_count": 5,
      "metadata": {
        "id": "DA1DXOkT67Wr"
      },
      "outputs": [],
      "source": [
        "# track details function\n",
        "def get_track_details(spotify_id, token):\n",
        "    sp = spotipy.Spotify(auth=token)\n",
        "    track = sp.track(spotify_id)\n",
        "    return track['name'], track['artists'][0]['name']"
      ]
    },
    {
      "cell_type": "markdown",
      "metadata": {},
      "source": [
        "--- "
      ]
    },
    {
      "cell_type": "markdown",
      "metadata": {},
      "source": [
        "### Lyrics - Web Scraping Approach (Hit or Miss)"
      ]
    },
    {
      "cell_type": "code",
      "execution_count": null,
      "metadata": {},
      "outputs": [],
      "source": [
        " \n",
        "# function 1 to get the lyrics from spotify id\n",
        "def get_lyrics_by_spotify_id(spotify_id): \n",
        "\n",
        "    spotify_token = get_spotify_token(SPOTIFY_CLIENT_ID, SPOTIFY_CLIENT_SECRET)\n",
        "    song_title, artist = get_track_details(spotify_id, spotify_token)\n",
        "\n",
        "    artist = artist.lower() \n",
        "    song_title = song_title.lower()\n",
        "\n",
        "    # remove all except alphanumeric characters from artist and song_title \n",
        "    artist = re.sub('[^A-Za-z0-9]+', \"\", artist) \n",
        "    song_title = re.sub('[^A-Za-z0-9]+', \"\", song_title)\n",
        "\n",
        "    # remove starting 'the' from artist e.g. the who -> who\n",
        "    if artist.startswith(\"the\"):     \n",
        "        artist = artist[3:] \n",
        "    url = \"http://azlyrics.com/lyrics/\"+artist+\"/\"+song_title+\".html\"\n",
        "\n",
        "     \n",
        "    try: \n",
        "        content = urllib.request.urlopen(url).read() \n",
        "        soup = BeautifulSoup(content, 'html.parser') \n",
        "        lyrics = str(soup) \n",
        "        # lyrics lies between up_partition and down_partition \n",
        "        up_partition = '<!-- Usage of azlyrics.com content by any third-party lyrics provider is prohibited by our licensing agreement. Sorry about that. -->' \n",
        "        down_partition = '<!-- MxM banner -->' \n",
        "        lyrics = lyrics.split(up_partition)[1] \n",
        "        lyrics = lyrics.split(down_partition)[0] \n",
        "        lyrics = lyrics.replace('<br>','').replace('</br>','').replace('</div>','').replace('<br/>','').strip()\n",
        "        \n",
        "        return lyrics     \n",
        "    except Exception as e: \n",
        "        return \"Exception occurred \\n\" +str(e)"
      ]
    },
    {
      "cell_type": "markdown",
      "metadata": {},
      "source": [
        "### Lyrics - Free API (Adds jargon in the first line)"
      ]
    },
    {
      "cell_type": "code",
      "execution_count": 13,
      "metadata": {},
      "outputs": [],
      "source": [
        "# function 2 to get the lyrics from spotify id\n",
        "def get_lyrics_by_spotify_id(spotify_id): \n",
        "\n",
        "    spotify_token = get_spotify_token(SPOTIFY_CLIENT_ID, SPOTIFY_CLIENT_SECRET)\n",
        "    song_title, artist = get_track_details(spotify_id, spotify_token)\n",
        "\n",
        "    artist = str(artist) \n",
        "    song_title = str(song_title)\n",
        "\n",
        "    url = 'https://api.lyrics.ovh/v1/' + artist + '/' + song_title\n",
        "\n",
        "    # fetch lyrics\n",
        "    response = requests.get(url)\n",
        "    json_data = json.loads(response.content)\n",
        "    lyrics = json_data['lyrics']\n",
        "\n",
        "    return lyrics   "
      ]
    },
    {
      "cell_type": "code",
      "execution_count": 14,
      "metadata": {
        "colab": {
          "base_uri": "https://localhost:8080/"
        },
        "id": "NrSNTUiC61LS",
        "outputId": "9ef4830f-bbba-4a23-83d7-ea33bffe6f6b"
      },
      "outputs": [
        {
          "name": "stdout",
          "output_type": "stream",
          "text": [
            "paroles de la chanson husn par anuv jain\n",
            "dekho, dekho, kaisi baatein yahan ki\n",
            "hain saath par, hain saath naa bhi\n",
            "kya itni aasaan hai?\n",
            "dekho, dekho, jaise mere iraade\n",
            "waise kahaan tere yahan the\n",
            "haan, kitni naadan main\n",
            "\n",
            "mere husn ke ilaawa kabhi dil bhi maang lo naa\n",
            "haaye, pal mei main pighal jaaun, haan\n",
            "ab aisa naa kro ki dil jud na paaye waapis\n",
            "teri baaton se bikhar jaaun, haan\n",
            "\n",
            "maana zamana hai diwaana\n",
            "isliye tune naa jaana\n",
            "tere liye main kaafi hun\n",
            "dekho, dekho, yeh zamane se thak kar\n",
            "\n",
            "aate ho kyun maasoom ban kar?\n",
            "tere liye main kya hi hun?\n",
            "\n",
            "phir aate kyu yahan karne aankhon mei ho baarish?\n",
            "abh aaye ho thehar jaao naa\n",
            "aur puchcho naa zara mere din ke baare mei bhi\n",
            "bas itne mei sambhal jaaun, haan\n",
            "\n",
            "haan, ek din kabhi koi\n",
            "jab bhi padhe kahani teri\n",
            "lagta mujhe mere naam ka\n",
            "zikr kahin bhi hoga nahi\n",
            "\n",
            "haan, main yahin\n",
            "meri yeh aankhon mei, aankhon mei toh dekho\n",
            "dekho, yeh dil ka haal kya\n",
            "honthon se hota naa byaan\n",
            "meri yeh aankhon mei, aankhon mei toh dekho\n",
            "\n",
            "kaisa naseeb hai mera\n",
            "milke bhi na mujhe mila\n",
            "meri yeh aankhon mei, aankhon mei toh dekho\n",
            "teri adhoori si wafa\n",
            "maangu, main maangu aur naa\n",
            "meri yeh aankhon mei, aankhon mei toh dekho\n",
            "\n",
            "dekho, dekho, kaisi kheenchi lakeerein\n",
            "chahe bhi dil toh bhi naa jeete\n",
            "main iss daud mei nahi\n",
            "dekho, dekho, kaisi baatein yahan ki\n",
            "baatein yahi dekhun yahan bhi\n",
            "main iss daur se nahi\n"
          ]
        }
      ],
      "source": [
        "# example usage\n",
        "spotify_id = 'https://open.spotify.com/track/0TL0LFcwIBF5eX7arDIKxY?si=61eef086ea274c4a'\n",
        "lyrics = get_lyrics_by_spotify_id(spotify_id)\n",
        "\n",
        "print(lyrics.lower())"
      ]
    },
    {
      "cell_type": "markdown",
      "metadata": {},
      "source": [
        "---"
      ]
    },
    {
      "cell_type": "code",
      "execution_count": 19,
      "metadata": {
        "id": "PsZfpfgr8TZw"
      },
      "outputs": [
        {
          "name": "stdout",
          "output_type": "stream",
          "text": [
            "[so:0.7142850086007764, id:0.28571417988026676]\n"
          ]
        }
      ],
      "source": [
        "# language detection\n",
        "print(ld.detect_langs(lyrics.lower()))"
      ]
    },
    {
      "cell_type": "code",
      "execution_count": null,
      "metadata": {},
      "outputs": [],
      "source": []
    }
  ],
  "metadata": {
    "colab": {
      "provenance": []
    },
    "kernelspec": {
      "display_name": "Python 3",
      "name": "python3"
    },
    "language_info": {
      "codemirror_mode": {
        "name": "ipython",
        "version": 3
      },
      "file_extension": ".py",
      "mimetype": "text/x-python",
      "name": "python",
      "nbconvert_exporter": "python",
      "pygments_lexer": "ipython3",
      "version": "3.10.12"
    }
  },
  "nbformat": 4,
  "nbformat_minor": 0
}
